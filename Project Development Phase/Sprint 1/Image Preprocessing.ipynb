{
 "cells": [
  {
   "cell_type": "markdown",
   "id": "2a270fc7",
   "metadata": {},
   "source": [
    "# PROJECT TITLE: FERTILIZER RECOMMENDATION SYSTEM FOR DISEASE PREDICTION"
   ]
  },
  {
   "cell_type": "markdown",
   "id": "4d3bcd6a",
   "metadata": {},
   "source": [
    "TEAM MEMBERS: GNANAPRAVEENA R, \n",
    "              PAVITHRA M, \n",
    "              SNEKA K, \n",
    "              VAISHNAVI K[TEAM LEADER]"
   ]
  },
  {
   "cell_type": "markdown",
   "id": "0da5aa65",
   "metadata": {},
   "source": [
    "TEAM ID: PNT2022TMID19575"
   ]
  },
  {
   "cell_type": "markdown",
   "id": "cdaf940b",
   "metadata": {},
   "source": [
    "\n",
    "# SPRINT 1 - IMAGE PREPROCESSING"
   ]
  },
  {
   "cell_type": "markdown",
   "id": "de2395e1",
   "metadata": {},
   "source": [
    "# PREPROCESSING THE IMAGES USING IMAGE DATA GENERATOR"
   ]
  },
  {
   "cell_type": "code",
   "execution_count": null,
   "id": "2d230f2e",
   "metadata": {},
   "outputs": [],
   "source": [
    "Importing Libraries for Image Preprocessing"
   ]
  },
  {
   "cell_type": "code",
   "execution_count": 3,
   "id": "72b37b4b",
   "metadata": {},
   "outputs": [],
   "source": [
    "from keras.preprocessing.image import ImageDataGenerator"
   ]
  },
  {
   "cell_type": "code",
   "execution_count": 4,
   "id": "4bea1931",
   "metadata": {},
   "outputs": [],
   "source": [
    "train_datagen=ImageDataGenerator(rescale=1./255,shear_range=0.2,zoom_range=0.2,horizontal_flip=True)"
   ]
  },
  {
   "cell_type": "code",
   "execution_count": 5,
   "id": "08dc2b60",
   "metadata": {},
   "outputs": [],
   "source": [
    "test_datagen=ImageDataGenerator(rescale=1)"
   ]
  },
  {
   "cell_type": "code",
   "execution_count": 6,
   "id": "def93d94",
   "metadata": {},
   "outputs": [
    {
     "name": "stdout",
     "output_type": "stream",
     "text": [
      "Found 5384 images belonging to 6 classes.\n"
     ]
    }
   ],
   "source": [
    "x_train=train_datagen.flow_from_directory(r'C:\\\\Users\\\\vaishu\\\\Downloads\\\\Fertilizers_Recommendation_ System_For_Disease_ Prediction\\\\Dataset Plant Disease\\\\fruit-dataset\\\\fruit-dataset\\\\train',target_size=(128,128),batch_size=2,class_mode='categorical')"
   ]
  },
  {
   "cell_type": "code",
   "execution_count": 7,
   "id": "5cebae11",
   "metadata": {
    "scrolled": true
   },
   "outputs": [
    {
     "name": "stdout",
     "output_type": "stream",
     "text": [
      "Found 1686 images belonging to 6 classes.\n"
     ]
    }
   ],
   "source": [
    "x_test=test_datagen.flow_from_directory(r'C:\\\\Users\\\\vaishu\\\\Downloads\\\\Fertilizers_Recommendation_ System_For_Disease_ Prediction\\\\Dataset Plant Disease\\\\fruit-dataset\\\\fruit-dataset\\\\test',target_size=(128,128),batch_size=2,class_mode='categorical')"
   ]
  },
  {
   "cell_type": "code",
   "execution_count": 9,
   "id": "c0dac231",
   "metadata": {},
   "outputs": [
    {
     "name": "stdout",
     "output_type": "stream",
     "text": [
      "Found 11386 images belonging to 9 classes.\n"
     ]
    }
   ],
   "source": [
    "x_train=train_datagen.flow_from_directory(r'C:\\\\Users\\\\vaishu\\\\Downloads\\\\Fertilizers_Recommendation_ System_For_Disease_ Prediction\\\\Dataset Plant Disease\\\\Veg-dataset\\\\Veg-dataset\\\\train_set',target_size=(128,128),batch_size=2,class_mode='categorical')"
   ]
  },
  {
   "cell_type": "code",
   "execution_count": 10,
   "id": "e56ca703",
   "metadata": {},
   "outputs": [
    {
     "name": "stdout",
     "output_type": "stream",
     "text": [
      "Found 3416 images belonging to 9 classes.\n"
     ]
    }
   ],
   "source": [
    "x_train=train_datagen.flow_from_directory(r'C:\\\\Users\\\\vaishu\\\\Downloads\\\\Fertilizers_Recommendation_ System_For_Disease_ Prediction\\\\Dataset Plant Disease\\\\Veg-dataset\\\\Veg-dataset\\\\test_set',target_size=(128,128),batch_size=2,class_mode='categorical')"
   ]
  }
 ],
 "metadata": {
  "kernelspec": {
   "display_name": "Python 3 (ipykernel)",
   "language": "python",
   "name": "python3"
  },
  "language_info": {
   "codemirror_mode": {
    "name": "ipython",
    "version": 3
   },
   "file_extension": ".py",
   "mimetype": "text/x-python",
   "name": "python",
   "nbconvert_exporter": "python",
   "pygments_lexer": "ipython3",
   "version": "3.9.12"
  }
 },
 "nbformat": 4,
 "nbformat_minor": 5
}
