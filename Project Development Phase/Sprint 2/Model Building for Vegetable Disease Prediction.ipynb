{
 "cells": [
  {
   "cell_type": "markdown",
   "id": "faee23b9",
   "metadata": {},
   "source": [
    "# SPRINT 2 - TEAM ID : PNT2022TMID19575"
   ]
  },
  {
   "cell_type": "markdown",
   "id": "229ab9c6",
   "metadata": {},
   "source": [
    "TEAM MEMBERS : VAISHNAVI K[Team Leader]  \n",
    "GNANAPRAVEENA R  \n",
    "PAVITHRA M  \n",
    "SNEKA K  "
   ]
  },
  {
   "cell_type": "markdown",
   "id": "c0afdc2b",
   "metadata": {},
   "source": [
    "# MODEL BUILDING FOR VEGETABLE DISEASE PREDICTION"
   ]
  },
  {
   "cell_type": "markdown",
   "id": "0061f1d7",
   "metadata": {},
   "source": [
    "# Image Augumentation"
   ]
  },
  {
   "cell_type": "code",
   "execution_count": 1,
   "id": "e8fcf921",
   "metadata": {},
   "outputs": [],
   "source": [
    "from tensorflow.keras.preprocessing.image import ImageDataGenerator"
   ]
  },
  {
   "cell_type": "code",
   "execution_count": 2,
   "id": "f8625152",
   "metadata": {},
   "outputs": [],
   "source": [
    "train_datagen=ImageDataGenerator(rescale=1./255,zoom_range=0.2,horizontal_flip=True,vertical_flip=False)"
   ]
  },
  {
   "cell_type": "code",
   "execution_count": 3,
   "id": "789ac7fa",
   "metadata": {},
   "outputs": [],
   "source": [
    "test_datagen=ImageDataGenerator(rescale=1./255)"
   ]
  },
  {
   "cell_type": "code",
   "execution_count": 4,
   "id": "7f76137a",
   "metadata": {},
   "outputs": [
    {
     "name": "stdout",
     "output_type": "stream",
     "text": [
      "Found 11386 images belonging to 9 classes.\n"
     ]
    }
   ],
   "source": [
    "x_train=train_datagen.flow_from_directory(r\"C:\\\\Users\\\\vaishu\\\\Downloads\\\\Fertilizers_Recommendation_ System_For_Disease_ Prediction\\\\Dataset Plant Disease\\\\Veg-dataset\\\\Veg-dataset\\\\train_set\",target_size=(128,128),\n",
    "                                        class_mode='categorical',batch_size=24)"
   ]
  },
  {
   "cell_type": "code",
   "execution_count": 5,
   "id": "4de88918",
   "metadata": {},
   "outputs": [
    {
     "name": "stdout",
     "output_type": "stream",
     "text": [
      "Found 3416 images belonging to 9 classes.\n"
     ]
    }
   ],
   "source": [
    "x_test=test_datagen.flow_from_directory(r'C:\\\\Users\\\\vaishu\\Downloads\\\\Fertilizers_Recommendation_ System_For_Disease_ Prediction\\\\Dataset Plant Disease\\\\Veg-dataset\\\\Veg-dataset\\\\test_set',target_size=(128,128),\n",
    "                                        class_mode='categorical',batch_size=24)"
   ]
  },
  {
   "cell_type": "markdown",
   "id": "8a01795b",
   "metadata": {},
   "source": [
    "# ADDING CNN"
   ]
  },
  {
   "cell_type": "code",
   "execution_count": 6,
   "id": "eb2c6b4c",
   "metadata": {},
   "outputs": [],
   "source": [
    "from tensorflow.keras.models import Sequential"
   ]
  },
  {
   "cell_type": "code",
   "execution_count": 7,
   "id": "be1a8503",
   "metadata": {},
   "outputs": [],
   "source": [
    "from tensorflow.keras.layers import Dense,Convolution2D,MaxPooling2D,Flatten"
   ]
  },
  {
   "cell_type": "code",
   "execution_count": 8,
   "id": "1a558bce",
   "metadata": {},
   "outputs": [],
   "source": [
    "model=Sequential()"
   ]
  },
  {
   "cell_type": "code",
   "execution_count": 9,
   "id": "5d603da0",
   "metadata": {},
   "outputs": [],
   "source": [
    "model.add(Convolution2D(32,(3,3),input_shape=(128,128,3),activation='relu'))"
   ]
  },
  {
   "cell_type": "code",
   "execution_count": 10,
   "id": "884288ca",
   "metadata": {},
   "outputs": [],
   "source": [
    "model.add(MaxPooling2D(pool_size=(2,2)))"
   ]
  },
  {
   "cell_type": "code",
   "execution_count": 11,
   "id": "59f272a0",
   "metadata": {},
   "outputs": [],
   "source": [
    "model.add(Flatten())"
   ]
  },
  {
   "cell_type": "code",
   "execution_count": 12,
   "id": "17b3d1bc",
   "metadata": {},
   "outputs": [
    {
     "name": "stdout",
     "output_type": "stream",
     "text": [
      "Model: \"sequential\"\n",
      "_________________________________________________________________\n",
      " Layer (type)                Output Shape              Param #   \n",
      "=================================================================\n",
      " conv2d (Conv2D)             (None, 126, 126, 32)      896       \n",
      "                                                                 \n",
      " max_pooling2d (MaxPooling2D  (None, 63, 63, 32)       0         \n",
      " )                                                               \n",
      "                                                                 \n",
      " flatten (Flatten)           (None, 127008)            0         \n",
      "                                                                 \n",
      "=================================================================\n",
      "Total params: 896\n",
      "Trainable params: 896\n",
      "Non-trainable params: 0\n",
      "_________________________________________________________________\n"
     ]
    }
   ],
   "source": [
    "model.summary()"
   ]
  },
  {
   "cell_type": "markdown",
   "id": "14d838ea",
   "metadata": {},
   "source": [
    "# HIDDEN LAYERS"
   ]
  },
  {
   "cell_type": "code",
   "execution_count": 13,
   "id": "b3f4fc56",
   "metadata": {},
   "outputs": [],
   "source": [
    "model.add(Dense(300,activation='relu'))"
   ]
  },
  {
   "cell_type": "code",
   "execution_count": 14,
   "id": "77bd9429",
   "metadata": {},
   "outputs": [],
   "source": [
    "model.add(Dense(150,activation='relu'))"
   ]
  },
  {
   "cell_type": "markdown",
   "id": "93450e09",
   "metadata": {},
   "source": [
    "# OUTPUT LAYER"
   ]
  },
  {
   "cell_type": "code",
   "execution_count": 15,
   "id": "0131ec0e",
   "metadata": {},
   "outputs": [],
   "source": [
    "model.add(Dense(9,activation='softmax'))"
   ]
  },
  {
   "cell_type": "code",
   "execution_count": 16,
   "id": "ced4325b",
   "metadata": {},
   "outputs": [],
   "source": [
    "model.compile(loss='categorical_crossentropy',optimizer='adam',metrics=['accuracy'])"
   ]
  },
  {
   "cell_type": "code",
   "execution_count": 17,
   "id": "68e374a5",
   "metadata": {},
   "outputs": [
    {
     "data": {
      "text/plain": [
       "475"
      ]
     },
     "execution_count": 17,
     "metadata": {},
     "output_type": "execute_result"
    }
   ],
   "source": [
    "len(x_train)"
   ]
  },
  {
   "cell_type": "code",
   "execution_count": 18,
   "id": "94258a04",
   "metadata": {},
   "outputs": [
    {
     "data": {
      "text/plain": [
       "51.583333333333336"
      ]
     },
     "execution_count": 18,
     "metadata": {},
     "output_type": "execute_result"
    }
   ],
   "source": [
    "1238/24"
   ]
  },
  {
   "cell_type": "markdown",
   "id": "bd082663",
   "metadata": {},
   "source": [
    "# Fitting the Model"
   ]
  },
  {
   "cell_type": "code",
   "execution_count": 19,
   "id": "a3f290b0",
   "metadata": {},
   "outputs": [
    {
     "name": "stdout",
     "output_type": "stream",
     "text": [
      "Epoch 1/10\n",
      "475/475 [==============================] - 740s 2s/step - loss: 1.5010 - accuracy: 0.5813 - val_loss: 0.8844 - val_accuracy: 0.6862\n",
      "Epoch 2/10\n",
      "475/475 [==============================] - 315s 663ms/step - loss: 0.6196 - accuracy: 0.7845 - val_loss: 0.5236 - val_accuracy: 0.8156\n",
      "Epoch 3/10\n",
      "475/475 [==============================] - 292s 614ms/step - loss: 0.4700 - accuracy: 0.8343 - val_loss: 0.3397 - val_accuracy: 0.8838\n",
      "Epoch 4/10\n",
      "475/475 [==============================] - 287s 603ms/step - loss: 0.4111 - accuracy: 0.8531 - val_loss: 0.3925 - val_accuracy: 0.8522\n",
      "Epoch 5/10\n",
      "475/475 [==============================] - 289s 608ms/step - loss: 0.3539 - accuracy: 0.8766 - val_loss: 0.2728 - val_accuracy: 0.9025\n",
      "Epoch 6/10\n",
      "475/475 [==============================] - 281s 591ms/step - loss: 0.3033 - accuracy: 0.8955 - val_loss: 0.3506 - val_accuracy: 0.8841\n",
      "Epoch 7/10\n",
      "475/475 [==============================] - 310s 653ms/step - loss: 0.2959 - accuracy: 0.8959 - val_loss: 0.2155 - val_accuracy: 0.9245\n",
      "Epoch 8/10\n",
      "475/475 [==============================] - 298s 628ms/step - loss: 0.2665 - accuracy: 0.9058 - val_loss: 0.2141 - val_accuracy: 0.9215\n",
      "Epoch 9/10\n",
      "475/475 [==============================] - 306s 643ms/step - loss: 0.2542 - accuracy: 0.9121 - val_loss: 0.2384 - val_accuracy: 0.9116\n",
      "Epoch 10/10\n",
      "475/475 [==============================] - 302s 636ms/step - loss: 0.2396 - accuracy: 0.9167 - val_loss: 0.1847 - val_accuracy: 0.9426\n"
     ]
    },
    {
     "data": {
      "text/plain": [
       "<keras.callbacks.History at 0x191a9294850>"
      ]
     },
     "execution_count": 19,
     "metadata": {},
     "output_type": "execute_result"
    }
   ],
   "source": [
    "model.fit(x_train,steps_per_epoch=len(x_train),validation_data=x_test,validation_steps=len(x_test),epochs=10)"
   ]
  },
  {
   "cell_type": "code",
   "execution_count": null,
   "id": "0fb09350",
   "metadata": {},
   "outputs": [],
   "source": []
  },
  {
   "cell_type": "code",
   "execution_count": 20,
   "id": "81b2fbc8",
   "metadata": {},
   "outputs": [],
   "source": [
    "model.save('vegetables.h5')"
   ]
  },
  {
   "cell_type": "code",
   "execution_count": 77,
   "id": "4bb68c08",
   "metadata": {},
   "outputs": [],
   "source": [
    "import numpy as np"
   ]
  },
  {
   "cell_type": "code",
   "execution_count": 78,
   "id": "95be2ad0",
   "metadata": {},
   "outputs": [],
   "source": [
    "from tensorflow.keras.models import load_model"
   ]
  },
  {
   "cell_type": "code",
   "execution_count": 79,
   "id": "6788f8e0",
   "metadata": {},
   "outputs": [],
   "source": [
    "from tensorflow.keras.preprocessing import image"
   ]
  },
  {
   "cell_type": "code",
   "execution_count": 80,
   "id": "31b935ec",
   "metadata": {},
   "outputs": [],
   "source": [
    "model=load_model('vegetables.h5')"
   ]
  },
  {
   "cell_type": "code",
   "execution_count": 163,
   "id": "5afc3a01",
   "metadata": {},
   "outputs": [],
   "source": [
    "img=image.load_img(r\"C:\\Users\\vaishu\\Downloads\\Fertilizers_Recommendation_ System_For_Disease_ Prediction\\Dataset Plant Disease\\Veg-dataset\\Veg-dataset\\test_set\\Tomato___Septoria_leaf_spot\\c280146e-f898-446c-a1e2-af20cc2b0251___Keller.St_CG 1884.jpg\",target_size=(128,128))"
   ]
  },
  {
   "cell_type": "code",
   "execution_count": 164,
   "id": "1acd76b5",
   "metadata": {},
   "outputs": [
    {
     "data": {
      "image/png": "[encoded data removed]",
      "text/plain": [
       "<PIL.Image.Image image mode=RGB size=128x128 at 0x191B5A73D00>"
      ]
     },
     "execution_count": 164,
     "metadata": {},
     "output_type": "execute_result"
    }
   ],
   "source": [
    "img"
   ]
  },
  {
   "cell_type": "code",
   "execution_count": 165,
   "id": "3cd73888",
   "metadata": {},
   "outputs": [],
   "source": [
    "x = image.img_to_array(img)"
   ]
  },
  {
   "cell_type": "code",
   "execution_count": 166,
   "id": "14d1e82e",
   "metadata": {},
   "outputs": [
    {
     "data": {
      "text/plain": [
       "array([[[135., 127., 150.],\n",
       "        [160., 152., 175.],\n",
       "        [144., 136., 159.],\n",
       "        ...,\n",
       "        [136., 130., 156.],\n",
       "        [117., 111., 137.],\n",
       "        [130., 124., 150.]],\n",
       "\n",
       "       [[136., 128., 151.],\n",
       "        [123., 115., 138.],\n",
       "        [127., 119., 142.],\n",
       "        ...,\n",
       "        [116., 110., 136.],\n",
       "        [124., 118., 144.],\n",
       "        [114., 108., 134.]],\n",
       "\n",
       "       [[151., 143., 166.],\n",
       "        [121., 113., 136.],\n",
       "        [139., 131., 154.],\n",
       "        ...,\n",
       "        [118., 112., 138.],\n",
       "        [ 97.,  91., 117.],\n",
       "        [122., 116., 142.]],\n",
       "\n",
       "       ...,\n",
       "\n",
       "       [[106.,  98., 119.],\n",
       "        [105.,  97., 118.],\n",
       "        [104.,  96., 117.],\n",
       "        ...,\n",
       "        [102.,  94., 117.],\n",
       "        [103.,  95., 118.],\n",
       "        [104.,  96., 119.]],\n",
       "\n",
       "       [[105.,  97., 118.],\n",
       "        [105.,  97., 118.],\n",
       "        [104.,  96., 117.],\n",
       "        ...,\n",
       "        [109., 101., 124.],\n",
       "        [109., 101., 124.],\n",
       "        [105.,  97., 120.]],\n",
       "\n",
       "       [[102.,  94., 115.],\n",
       "        [100.,  92., 113.],\n",
       "        [ 98.,  90., 111.],\n",
       "        ...,\n",
       "        [106.,  98., 121.],\n",
       "        [105.,  97., 120.],\n",
       "        [106.,  98., 121.]]], dtype=float32)"
      ]
     },
     "execution_count": 166,
     "metadata": {},
     "output_type": "execute_result"
    }
   ],
   "source": [
    "x"
   ]
  },
  {
   "cell_type": "code",
   "execution_count": 167,
   "id": "e0546646",
   "metadata": {},
   "outputs": [],
   "source": [
    "x = np.expand_dims(x,axis=0)"
   ]
  },
  {
   "cell_type": "code",
   "execution_count": 168,
   "id": "7b8e396e",
   "metadata": {},
   "outputs": [
    {
     "data": {
      "text/plain": [
       "array([[[[135., 127., 150.],\n",
       "         [160., 152., 175.],\n",
       "         [144., 136., 159.],\n",
       "         ...,\n",
       "         [136., 130., 156.],\n",
       "         [117., 111., 137.],\n",
       "         [130., 124., 150.]],\n",
       "\n",
       "        [[136., 128., 151.],\n",
       "         [123., 115., 138.],\n",
       "         [127., 119., 142.],\n",
       "         ...,\n",
       "         [116., 110., 136.],\n",
       "         [124., 118., 144.],\n",
       "         [114., 108., 134.]],\n",
       "\n",
       "        [[151., 143., 166.],\n",
       "         [121., 113., 136.],\n",
       "         [139., 131., 154.],\n",
       "         ...,\n",
       "         [118., 112., 138.],\n",
       "         [ 97.,  91., 117.],\n",
       "         [122., 116., 142.]],\n",
       "\n",
       "        ...,\n",
       "\n",
       "        [[106.,  98., 119.],\n",
       "         [105.,  97., 118.],\n",
       "         [104.,  96., 117.],\n",
       "         ...,\n",
       "         [102.,  94., 117.],\n",
       "         [103.,  95., 118.],\n",
       "         [104.,  96., 119.]],\n",
       "\n",
       "        [[105.,  97., 118.],\n",
       "         [105.,  97., 118.],\n",
       "         [104.,  96., 117.],\n",
       "         ...,\n",
       "         [109., 101., 124.],\n",
       "         [109., 101., 124.],\n",
       "         [105.,  97., 120.]],\n",
       "\n",
       "        [[102.,  94., 115.],\n",
       "         [100.,  92., 113.],\n",
       "         [ 98.,  90., 111.],\n",
       "         ...,\n",
       "         [106.,  98., 121.],\n",
       "         [105.,  97., 120.],\n",
       "         [106.,  98., 121.]]]], dtype=float32)"
      ]
     },
     "execution_count": 168,
     "metadata": {},
     "output_type": "execute_result"
    }
   ],
   "source": [
    "x"
   ]
  },
  {
   "cell_type": "code",
   "execution_count": 169,
   "id": "8062109e",
   "metadata": {},
   "outputs": [
    {
     "name": "stdout",
     "output_type": "stream",
     "text": [
      "1/1 [==============================] - 0s 99ms/step\n"
     ]
    }
   ],
   "source": [
    "y=np.argmax(model.predict(x),axis=1)"
   ]
  },
  {
   "cell_type": "code",
   "execution_count": 170,
   "id": "611f4eac",
   "metadata": {},
   "outputs": [],
   "source": [
    "index=['Pepper,_bell___Bacterial_spot','Pepper,_bell___healthy','Potato___Early_blight','Potato___Late_blight','Potato___healthy','Tomato___Bacterial_spot','Tomato___Late_blight','Tomato___Leaf_Mold','Tomato___Septoria_leaf_spot']"
   ]
  },
  {
   "cell_type": "code",
   "execution_count": 171,
   "id": "26d6eb30",
   "metadata": {},
   "outputs": [
    {
     "data": {
      "text/plain": [
       "'Tomato___Septoria_leaf_spot'"
      ]
     },
     "execution_count": 171,
     "metadata": {},
     "output_type": "execute_result"
    }
   ],
   "source": [
    "index[y[0]]"
   ]
  },
  {
   "cell_type": "code",
   "execution_count": 175,
   "id": "d093fdaa",
   "metadata": {},
   "outputs": [],
   "source": [
    "img=image.load_img(r\"C:\\Users\\vaishu\\Downloads\\Fertilizers_Recommendation_ System_For_Disease_ Prediction\\Dataset Plant Disease\\Veg-dataset\\Veg-dataset\\test_set\\Pepper,_bell___Bacterial_spot\\afd0c913-1e90-4ff9-9a61-bd0a5297c012___JR_B.Spot 3221.jpg\",target_size=(128,128))"
   ]
  },
  {
   "cell_type": "code",
   "execution_count": 176,
   "id": "f3d7369e",
   "metadata": {},
   "outputs": [
    {
     "data": {
      "image/png": "[encoded data removed]",
      "text/plain": [
       "<PIL.Image.Image image mode=RGB size=128x128 at 0x191B5860BE0>"
      ]
     },
     "execution_count": 176,
     "metadata": {},
     "output_type": "execute_result"
    }
   ],
   "source": [
    "img"
   ]
  },
  {
   "cell_type": "code",
   "execution_count": 177,
   "id": "02060bf5",
   "metadata": {},
   "outputs": [],
   "source": [
    "x = image.img_to_array(img)"
   ]
  },
  {
   "cell_type": "code",
   "execution_count": 178,
   "id": "a9ce168a",
   "metadata": {},
   "outputs": [
    {
     "data": {
      "text/plain": [
       "array([[[177., 161., 171.],\n",
       "        [170., 154., 164.],\n",
       "        [166., 150., 160.],\n",
       "        ...,\n",
       "        [142., 137., 157.],\n",
       "        [125., 120., 140.],\n",
       "        [142., 137., 157.]],\n",
       "\n",
       "       [[167., 151., 161.],\n",
       "        [168., 152., 162.],\n",
       "        [176., 160., 170.],\n",
       "        ...,\n",
       "        [148., 143., 163.],\n",
       "        [142., 137., 157.],\n",
       "        [148., 143., 163.]],\n",
       "\n",
       "       [[158., 142., 152.],\n",
       "        [163., 147., 157.],\n",
       "        [164., 148., 158.],\n",
       "        ...,\n",
       "        [147., 139., 160.],\n",
       "        [157., 149., 170.],\n",
       "        [158., 150., 171.]],\n",
       "\n",
       "       ...,\n",
       "\n",
       "       [[ 12.,  10.,  13.],\n",
       "        [ 12.,  10.,  13.],\n",
       "        [ 12.,  10.,  13.],\n",
       "        ...,\n",
       "        [100.,  85., 106.],\n",
       "        [126., 111., 132.],\n",
       "        [132., 117., 138.]],\n",
       "\n",
       "       [[ 11.,   9.,  12.],\n",
       "        [ 11.,   9.,  12.],\n",
       "        [ 11.,   9.,  12.],\n",
       "        ...,\n",
       "        [119., 104., 125.],\n",
       "        [131., 116., 137.],\n",
       "        [109.,  94., 115.]],\n",
       "\n",
       "       [[ 14.,  12.,  15.],\n",
       "        [ 14.,  12.,  15.],\n",
       "        [ 14.,  12.,  15.],\n",
       "        ...,\n",
       "        [ 84.,  69.,  90.],\n",
       "        [ 79.,  64.,  85.],\n",
       "        [140., 125., 146.]]], dtype=float32)"
      ]
     },
     "execution_count": 178,
     "metadata": {},
     "output_type": "execute_result"
    }
   ],
   "source": [
    "x"
   ]
  },
  {
   "cell_type": "code",
   "execution_count": 179,
   "id": "1691527c",
   "metadata": {},
   "outputs": [],
   "source": [
    "x = np.expand_dims(x,axis=0)\n"
   ]
  },
  {
   "cell_type": "code",
   "execution_count": 180,
   "id": "ed7a166b",
   "metadata": {},
   "outputs": [
    {
     "data": {
      "text/plain": [
       "array([[[[177., 161., 171.],\n",
       "         [170., 154., 164.],\n",
       "         [166., 150., 160.],\n",
       "         ...,\n",
       "         [142., 137., 157.],\n",
       "         [125., 120., 140.],\n",
       "         [142., 137., 157.]],\n",
       "\n",
       "        [[167., 151., 161.],\n",
       "         [168., 152., 162.],\n",
       "         [176., 160., 170.],\n",
       "         ...,\n",
       "         [148., 143., 163.],\n",
       "         [142., 137., 157.],\n",
       "         [148., 143., 163.]],\n",
       "\n",
       "        [[158., 142., 152.],\n",
       "         [163., 147., 157.],\n",
       "         [164., 148., 158.],\n",
       "         ...,\n",
       "         [147., 139., 160.],\n",
       "         [157., 149., 170.],\n",
       "         [158., 150., 171.]],\n",
       "\n",
       "        ...,\n",
       "\n",
       "        [[ 12.,  10.,  13.],\n",
       "         [ 12.,  10.,  13.],\n",
       "         [ 12.,  10.,  13.],\n",
       "         ...,\n",
       "         [100.,  85., 106.],\n",
       "         [126., 111., 132.],\n",
       "         [132., 117., 138.]],\n",
       "\n",
       "        [[ 11.,   9.,  12.],\n",
       "         [ 11.,   9.,  12.],\n",
       "         [ 11.,   9.,  12.],\n",
       "         ...,\n",
       "         [119., 104., 125.],\n",
       "         [131., 116., 137.],\n",
       "         [109.,  94., 115.]],\n",
       "\n",
       "        [[ 14.,  12.,  15.],\n",
       "         [ 14.,  12.,  15.],\n",
       "         [ 14.,  12.,  15.],\n",
       "         ...,\n",
       "         [ 84.,  69.,  90.],\n",
       "         [ 79.,  64.,  85.],\n",
       "         [140., 125., 146.]]]], dtype=float32)"
      ]
     },
     "execution_count": 180,
     "metadata": {},
     "output_type": "execute_result"
    }
   ],
   "source": [
    "x"
   ]
  },
  {
   "cell_type": "code",
   "execution_count": 181,
   "id": "6b16f81f",
   "metadata": {},
   "outputs": [
    {
     "name": "stdout",
     "output_type": "stream",
     "text": [
      "1/1 [==============================] - 0s 78ms/step\n"
     ]
    }
   ],
   "source": [
    "y=np.argmax(model.predict(x),axis=1)"
   ]
  },
  {
   "cell_type": "code",
   "execution_count": 182,
   "id": "ff039075",
   "metadata": {},
   "outputs": [],
   "source": [
    "index=['Pepper,_bell___Bacterial_spot','Pepper,_bell___healthy','Potato___Early_blight','Potato___Late_blight','Potato___healthy','Tomato___Bacterial_spot','Tomato___Late_blight','Tomato___Leaf_Mold','Tomato___Septoria_leaf_spot']"
   ]
  },
  {
   "cell_type": "code",
   "execution_count": 183,
   "id": "108c5aed",
   "metadata": {},
   "outputs": [
    {
     "data": {
      "text/plain": [
       "'Pepper,_bell___Bacterial_spot'"
      ]
     },
     "execution_count": 183,
     "metadata": {},
     "output_type": "execute_result"
    }
   ],
   "source": [
    "index[y[0]]"
   ]
  }
 ],
 "metadata": {
  "kernelspec": {
   "display_name": "Python 3 (ipykernel)",
   "language": "python",
   "name": "python3"
  },
  "language_info": {
   "codemirror_mode": {
    "name": "ipython",
    "version": 3
   },
   "file_extension": ".py",
   "mimetype": "text/x-python",
   "name": "python",
   "nbconvert_exporter": "python",
   "pygments_lexer": "ipython3",
   "version": "3.9.12"
  }
 },
 "nbformat": 4,
 "nbformat_minor": 5
}
